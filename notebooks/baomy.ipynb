{
 "cells": [
  {
   "cell_type": "code",
   "execution_count": 4,
   "id": "5d7a6bce",
   "metadata": {},
   "outputs": [],
   "source": [
    "import pandas as pd\n",
    "\n",
    "df = pd.read_csv(r\"C:\\Users\\admin\\Desktop\\Git_p\\customer-support-classification\\data_raw\\Baomy_tiki.csv\")"
   ]
  },
  {
   "cell_type": "code",
   "execution_count": 6,
   "id": "d73831ff",
   "metadata": {},
   "outputs": [
    {
     "name": "stdout",
     "output_type": "stream",
     "text": [
      "<class 'pandas.core.frame.DataFrame'>\n",
      "RangeIndex: 200 entries, 0 to 199\n",
      "Data columns (total 4 columns):\n",
      " #   Column       Non-Null Count  Dtype \n",
      "---  ------       --------------  ----- \n",
      " 0   content      140 non-null    object\n",
      " 1   rating       200 non-null    int64 \n",
      " 2   created_at   200 non-null    object\n",
      " 3   thank_count  200 non-null    int64 \n",
      "dtypes: int64(2), object(2)\n",
      "memory usage: 6.4+ KB\n"
     ]
    }
   ],
   "source": [
    "df.info()"
   ]
  },
  {
   "cell_type": "code",
   "execution_count": 7,
   "id": "53114f6f",
   "metadata": {},
   "outputs": [],
   "source": [
    "#độ dài trung bình ( kí tự , từ )\n",
    "\n",
    "df[\"len_ki_tu\"] = df[\"content\"].astype(str).apply(len)\n",
    "df[\"len_word\"] = df[\"content\"].astype(str).apply(lambda x : len(x.split()))"
   ]
  },
  {
   "cell_type": "code",
   "execution_count": 8,
   "id": "9035dab4",
   "metadata": {},
   "outputs": [
    {
     "data": {
      "text/html": [
       "<div>\n",
       "<style scoped>\n",
       "    .dataframe tbody tr th:only-of-type {\n",
       "        vertical-align: middle;\n",
       "    }\n",
       "\n",
       "    .dataframe tbody tr th {\n",
       "        vertical-align: top;\n",
       "    }\n",
       "\n",
       "    .dataframe thead th {\n",
       "        text-align: right;\n",
       "    }\n",
       "</style>\n",
       "<table border=\"1\" class=\"dataframe\">\n",
       "  <thead>\n",
       "    <tr style=\"text-align: right;\">\n",
       "      <th></th>\n",
       "      <th>content</th>\n",
       "      <th>rating</th>\n",
       "      <th>created_at</th>\n",
       "      <th>thank_count</th>\n",
       "      <th>len_ki_tu</th>\n",
       "      <th>len_word</th>\n",
       "    </tr>\n",
       "  </thead>\n",
       "  <tbody>\n",
       "    <tr>\n",
       "      <th>0</th>\n",
       "      <td>Đã nhận nồi. Đợi lâu mất mí hôm nhưng bõ công ...</td>\n",
       "      <td>5</td>\n",
       "      <td>Hoàng Minh Minh</td>\n",
       "      <td>0</td>\n",
       "      <td>410</td>\n",
       "      <td>100</td>\n",
       "    </tr>\n",
       "    <tr>\n",
       "      <th>1</th>\n",
       "      <td>Đây là video về nồi cơm điện EJR426 mà tôi nhậ...</td>\n",
       "      <td>5</td>\n",
       "      <td>Hoàng Minh Thái</td>\n",
       "      <td>1</td>\n",
       "      <td>204</td>\n",
       "      <td>46</td>\n",
       "    </tr>\n",
       "    <tr>\n",
       "      <th>2</th>\n",
       "      <td>Nhỏ xinh.\\nPhù hợp ở trọ một mình hoặc 2ng.\\nĐ...</td>\n",
       "      <td>5</td>\n",
       "      <td>V Musical</td>\n",
       "      <td>1</td>\n",
       "      <td>506</td>\n",
       "      <td>119</td>\n",
       "    </tr>\n",
       "    <tr>\n",
       "      <th>3</th>\n",
       "      <td>Ok càbwfwifwibfbxwxb cơm hơi cháy nên bật ít t...</td>\n",
       "      <td>5</td>\n",
       "      <td>Thùy Dương</td>\n",
       "      <td>1</td>\n",
       "      <td>59</td>\n",
       "      <td>10</td>\n",
       "    </tr>\n",
       "    <tr>\n",
       "      <th>4</th>\n",
       "      <td>Rất hài lòng với sản phầm này của Panasonic. K...</td>\n",
       "      <td>5</td>\n",
       "      <td>Nguyễn Đức</td>\n",
       "      <td>7</td>\n",
       "      <td>282</td>\n",
       "      <td>61</td>\n",
       "    </tr>\n",
       "  </tbody>\n",
       "</table>\n",
       "</div>"
      ],
      "text/plain": [
       "                                             content  rating       created_at  \\\n",
       "0  Đã nhận nồi. Đợi lâu mất mí hôm nhưng bõ công ...       5  Hoàng Minh Minh   \n",
       "1  Đây là video về nồi cơm điện EJR426 mà tôi nhậ...       5  Hoàng Minh Thái   \n",
       "2  Nhỏ xinh.\\nPhù hợp ở trọ một mình hoặc 2ng.\\nĐ...       5        V Musical   \n",
       "3  Ok càbwfwifwibfbxwxb cơm hơi cháy nên bật ít t...       5       Thùy Dương   \n",
       "4  Rất hài lòng với sản phầm này của Panasonic. K...       5       Nguyễn Đức   \n",
       "\n",
       "   thank_count  len_ki_tu  len_word  \n",
       "0            0        410       100  \n",
       "1            1        204        46  \n",
       "2            1        506       119  \n",
       "3            1         59        10  \n",
       "4            7        282        61  "
      ]
     },
     "execution_count": 8,
     "metadata": {},
     "output_type": "execute_result"
    }
   ],
   "source": [
    "df.head()"
   ]
  },
  {
   "cell_type": "markdown",
   "id": "eaeefcd7",
   "metadata": {},
   "source": [
    "import "
   ]
  },
  {
   "cell_type": "code",
   "execution_count": null,
   "id": "68b27e59",
   "metadata": {},
   "outputs": [],
   "source": []
  },
  {
   "cell_type": "code",
   "execution_count": null,
   "id": "d55174be",
   "metadata": {},
   "outputs": [],
   "source": []
  },
  {
   "cell_type": "code",
   "execution_count": null,
   "id": "e3b30811",
   "metadata": {},
   "outputs": [],
   "source": []
  }
 ],
 "metadata": {
  "kernelspec": {
   "display_name": "Python 3",
   "language": "python",
   "name": "python3"
  },
  "language_info": {
   "codemirror_mode": {
    "name": "ipython",
    "version": 3
   },
   "file_extension": ".py",
   "mimetype": "text/x-python",
   "name": "python",
   "nbconvert_exporter": "python",
   "pygments_lexer": "ipython3",
   "version": "3.10.11"
  }
 },
 "nbformat": 4,
 "nbformat_minor": 5
}
