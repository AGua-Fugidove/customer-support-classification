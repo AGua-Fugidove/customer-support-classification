{
 "cells": [
  {
   "cell_type": "code",
   "execution_count": 13,
   "id": "5d7a6bce",
   "metadata": {},
   "outputs": [],
   "source": [
    "import pandas as pd\n",
    "\n",
    "df_lb1 = pd.read_csv(r\"C:\\Users\\admin\\Desktop\\Git_p\\customer-support-classification\\data_raw\\labeled_Baomy_tiki.csv\")"
   ]
  },
  {
   "cell_type": "code",
   "execution_count": 18,
   "id": "8e4e6c5a",
   "metadata": {},
   "outputs": [],
   "source": [
    "df_lb2 = pd.read_csv(r\"C:\\Users\\admin\\Desktop\\Git_p\\customer-support-classification\\data_raw\\labeled_Baomy_tiki2.csv\")"
   ]
  },
  {
   "cell_type": "code",
   "execution_count": 21,
   "id": "33e38a27",
   "metadata": {},
   "outputs": [],
   "source": [
    "df_lb3 = pd.read_csv(r\"C:\\Users\\admin\\Desktop\\Git_p\\customer-support-classification\\data_raw\\labeled_Baomy_tiki3.csv\")"
   ]
  },
  {
   "cell_type": "code",
   "execution_count": 25,
   "id": "7c0a0994",
   "metadata": {},
   "outputs": [],
   "source": [
    "df_lb4 = pd.read_csv(r\"C:\\Users\\admin\\Desktop\\Git_p\\customer-support-classification\\data_raw\\labeled_Baomy_tiki4.csv\")"
   ]
  },
  {
   "cell_type": "code",
   "execution_count": 27,
   "id": "138bc3dc",
   "metadata": {},
   "outputs": [
    {
     "name": "stdout",
     "output_type": "stream",
     "text": [
      "(800, 5)\n",
      "                                             content  rating       created_at  \\\n",
      "0  Đã nhận nồi. Đợi lâu mất mí hôm nhưng bõ công ...       5  Hoàng Minh Minh   \n",
      "1  Đây là video về nồi cơm điện EJR426 mà tôi nhậ...       5  Hoàng Minh Thái   \n",
      "2  Nhỏ xinh.\\nPhù hợp ở trọ một mình hoặc 2ng.\\nĐ...       5        V Musical   \n",
      "3  Ok càbwfwifwibfbxwxb cơm hơi cháy nên bật ít t...       5       Thùy Dương   \n",
      "4  Rất hài lòng với sản phầm này của Panasonic. K...       5       Nguyễn Đức   \n",
      "\n",
      "   thank_count  label  \n",
      "0            0    pos  \n",
      "1            1   next  \n",
      "2            1  other  \n",
      "3            1  other  \n",
      "4            7    pos  \n"
     ]
    }
   ],
   "source": [
    "import pandas as pd\n",
    "\n",
    "\n",
    "df_lb1 = pd.read_csv(r\"C:\\Users\\admin\\Desktop\\Git_p\\customer-support-classification\\data_raw\\labeled_Baomy_tiki.csv\")\n",
    "df_lb2 = pd.read_csv(r\"C:\\Users\\admin\\Desktop\\Git_p\\customer-support-classification\\data_raw\\labeled_Baomy_tiki2.csv\")\n",
    "df_lb3 = pd.read_csv(r\"C:\\Users\\admin\\Desktop\\Git_p\\customer-support-classification\\data_raw\\labeled_Baomy_tiki3.csv\")\n",
    "df_lb4 = pd.read_csv(r\"C:\\Users\\admin\\Desktop\\Git_p\\customer-support-classification\\data_raw\\labeled_Baomy_tiki4.csv\")\n",
    "\n",
    "dfmy = pd.concat([df_lb1, df_lb2, df_lb3,df_lb4], ignore_index=True)\n",
    "\n",
    "print(dfmy.shape)   # xem kích thước\n",
    "print(dfmy.head())  # xem vài dòng đầu\n"
   ]
  },
  {
   "cell_type": "code",
   "execution_count": 26,
   "id": "83edfd1d",
   "metadata": {},
   "outputs": [
    {
     "data": {
      "image/png": "[encoded data removed]",
      "text/plain": [
       "<Figure size 640x480 with 1 Axes>"
      ]
     },
     "metadata": {},
     "output_type": "display_data"
    }
   ],
   "source": [
    "import matplotlib.pyplot as plt \n",
    "\n",
    "plt.hist(df_lb4[\"label\"], edgecolor = 'black')\n",
    "plt.xlabel(\"label\")\n",
    "plt.ylabel(\"freq\")\n",
    "plt.title(\"xem phan bo nhan \")\n",
    "plt.show()"
   ]
  },
  {
   "cell_type": "code",
   "execution_count": 28,
   "id": "d73831ff",
   "metadata": {},
   "outputs": [
    {
     "name": "stdout",
     "output_type": "stream",
     "text": [
      "<class 'pandas.core.frame.DataFrame'>\n",
      "RangeIndex: 800 entries, 0 to 799\n",
      "Data columns (total 5 columns):\n",
      " #   Column       Non-Null Count  Dtype \n",
      "---  ------       --------------  ----- \n",
      " 0   content      467 non-null    object\n",
      " 1   rating       800 non-null    int64 \n",
      " 2   created_at   799 non-null    object\n",
      " 3   thank_count  800 non-null    int64 \n",
      " 4   label        800 non-null    object\n",
      "dtypes: int64(2), object(3)\n",
      "memory usage: 31.4+ KB\n"
     ]
    }
   ],
   "source": [
    "dfmy.info()"
   ]
  },
  {
   "cell_type": "markdown",
   "id": "9ed0e6bf",
   "metadata": {},
   "source": [
    "-----"
   ]
  },
  {
   "cell_type": "code",
   "execution_count": 29,
   "id": "32dc32dd",
   "metadata": {},
   "outputs": [],
   "source": [
    "dfmy = dfmy.dropna()"
   ]
  },
  {
   "cell_type": "code",
   "execution_count": 33,
   "id": "ab7a2892",
   "metadata": {},
   "outputs": [
    {
     "data": {
      "image/png": "[encoded data removed]",
      "text/plain": [
       "<Figure size 640x480 with 1 Axes>"
      ]
     },
     "metadata": {},
     "output_type": "display_data"
    }
   ],
   "source": [
    "import matplotlib.pyplot as plt \n",
    "\n",
    "plt.hist(dfmy[\"label\"], edgecolor = 'black')\n",
    "plt.xlabel(\"label\")\n",
    "plt.ylabel(\"freq\")\n",
    "plt.title(\"xem phan bo nhan \")\n",
    "plt.show()"
   ]
  },
  {
   "cell_type": "code",
   "execution_count": 32,
   "id": "97d38280",
   "metadata": {},
   "outputs": [],
   "source": [
    "dfmy = dfmy[~dfmy[\"label\"].isin([\"poa\", \"pso\", \"next\"])]"
   ]
  },
  {
   "cell_type": "code",
   "execution_count": null,
   "id": "1f001325",
   "metadata": {},
   "outputs": [
    {
     "name": "stdout",
     "output_type": "stream",
     "text": [
      "<class 'pandas.core.frame.DataFrame'>\n",
      "Index: 454 entries, 0 to 786\n",
      "Data columns (total 5 columns):\n",
      " #   Column       Non-Null Count  Dtype \n",
      "---  ------       --------------  ----- \n",
      " 0   content      454 non-null    object\n",
      " 1   rating       454 non-null    int64 \n",
      " 2   created_at   454 non-null    object\n",
      " 3   thank_count  454 non-null    int64 \n",
      " 4   label        454 non-null    object\n",
      "dtypes: int64(2), object(3)\n",
      "memory usage: 21.3+ KB\n"
     ]
    }
   ],
   "source": [
    "dfmy.info()"
   ]
  },
  {
   "cell_type": "markdown",
   "id": "46a86749",
   "metadata": {},
   "source": [
    "imbalance => oversampling"
   ]
  },
  {
   "cell_type": "code",
   "execution_count": null,
   "id": "d0b7b356",
   "metadata": {},
   "outputs": [],
   "source": []
  },
  {
   "cell_type": "markdown",
   "id": "7933fb2a",
   "metadata": {},
   "source": [
    "---------"
   ]
  },
  {
   "cell_type": "code",
   "execution_count": 7,
   "id": "53114f6f",
   "metadata": {},
   "outputs": [],
   "source": [
    "#độ dài trung bình ( kí tự , từ )\n",
    "\n",
    "df[\"len_ki_tu\"] = df[\"content\"].astype(str).apply(len)\n",
    "df[\"len_word\"] = df[\"content\"].astype(str).apply(lambda x : len(x.split()))"
   ]
  },
  {
   "cell_type": "code",
   "execution_count": 8,
   "id": "9035dab4",
   "metadata": {},
   "outputs": [
    {
     "data": {
      "text/html": [
       "<div>\n",
       "<style scoped>\n",
       "    .dataframe tbody tr th:only-of-type {\n",
       "        vertical-align: middle;\n",
       "    }\n",
       "\n",
       "    .dataframe tbody tr th {\n",
       "        vertical-align: top;\n",
       "    }\n",
       "\n",
       "    .dataframe thead th {\n",
       "        text-align: right;\n",
       "    }\n",
       "</style>\n",
       "<table border=\"1\" class=\"dataframe\">\n",
       "  <thead>\n",
       "    <tr style=\"text-align: right;\">\n",
       "      <th></th>\n",
       "      <th>content</th>\n",
       "      <th>rating</th>\n",
       "      <th>created_at</th>\n",
       "      <th>thank_count</th>\n",
       "      <th>len_ki_tu</th>\n",
       "      <th>len_word</th>\n",
       "    </tr>\n",
       "  </thead>\n",
       "  <tbody>\n",
       "    <tr>\n",
       "      <th>0</th>\n",
       "      <td>Đã nhận nồi. Đợi lâu mất mí hôm nhưng bõ công ...</td>\n",
       "      <td>5</td>\n",
       "      <td>Hoàng Minh Minh</td>\n",
       "      <td>0</td>\n",
       "      <td>410</td>\n",
       "      <td>100</td>\n",
       "    </tr>\n",
       "    <tr>\n",
       "      <th>1</th>\n",
       "      <td>Đây là video về nồi cơm điện EJR426 mà tôi nhậ...</td>\n",
       "      <td>5</td>\n",
       "      <td>Hoàng Minh Thái</td>\n",
       "      <td>1</td>\n",
       "      <td>204</td>\n",
       "      <td>46</td>\n",
       "    </tr>\n",
       "    <tr>\n",
       "      <th>2</th>\n",
       "      <td>Nhỏ xinh.\\nPhù hợp ở trọ một mình hoặc 2ng.\\nĐ...</td>\n",
       "      <td>5</td>\n",
       "      <td>V Musical</td>\n",
       "      <td>1</td>\n",
       "      <td>506</td>\n",
       "      <td>119</td>\n",
       "    </tr>\n",
       "    <tr>\n",
       "      <th>3</th>\n",
       "      <td>Ok càbwfwifwibfbxwxb cơm hơi cháy nên bật ít t...</td>\n",
       "      <td>5</td>\n",
       "      <td>Thùy Dương</td>\n",
       "      <td>1</td>\n",
       "      <td>59</td>\n",
       "      <td>10</td>\n",
       "    </tr>\n",
       "    <tr>\n",
       "      <th>4</th>\n",
       "      <td>Rất hài lòng với sản phầm này của Panasonic. K...</td>\n",
       "      <td>5</td>\n",
       "      <td>Nguyễn Đức</td>\n",
       "      <td>7</td>\n",
       "      <td>282</td>\n",
       "      <td>61</td>\n",
       "    </tr>\n",
       "  </tbody>\n",
       "</table>\n",
       "</div>"
      ],
      "text/plain": [
       "                                             content  rating       created_at  \\\n",
       "0  Đã nhận nồi. Đợi lâu mất mí hôm nhưng bõ công ...       5  Hoàng Minh Minh   \n",
       "1  Đây là video về nồi cơm điện EJR426 mà tôi nhậ...       5  Hoàng Minh Thái   \n",
       "2  Nhỏ xinh.\\nPhù hợp ở trọ một mình hoặc 2ng.\\nĐ...       5        V Musical   \n",
       "3  Ok càbwfwifwibfbxwxb cơm hơi cháy nên bật ít t...       5       Thùy Dương   \n",
       "4  Rất hài lòng với sản phầm này của Panasonic. K...       5       Nguyễn Đức   \n",
       "\n",
       "   thank_count  len_ki_tu  len_word  \n",
       "0            0        410       100  \n",
       "1            1        204        46  \n",
       "2            1        506       119  \n",
       "3            1         59        10  \n",
       "4            7        282        61  "
      ]
     },
     "execution_count": 8,
     "metadata": {},
     "output_type": "execute_result"
    }
   ],
   "source": [
    "df.head()"
   ]
  },
  {
   "cell_type": "code",
   "execution_count": 10,
   "id": "68b27e59",
   "metadata": {},
   "outputs": [
    {
     "data": {
      "image/png": "[encoded data removed]",
      "text/plain": [
       "<Figure size 640x480 with 1 Axes>"
      ]
     },
     "metadata": {},
     "output_type": "display_data"
    }
   ],
   "source": [
    "import matplotlib.pyplot as plt\n",
    "\n",
    "plt.hist(df[\"len_word\"], edgecolor = 'black')\n",
    "plt.xlabel(\"value\")\n",
    "plt.ylabel(\"freq\")\n",
    "plt.title(\"xem f of word\")\n",
    "plt.show()"
   ]
  },
  {
   "cell_type": "markdown",
   "id": "2716246e",
   "metadata": {},
   "source": [
    "outlier : 175 words "
   ]
  },
  {
   "cell_type": "code",
   "execution_count": null,
   "id": "e3b30811",
   "metadata": {},
   "outputs": [],
   "source": []
  },
  {
   "cell_type": "code",
   "execution_count": null,
   "id": "307a341b",
   "metadata": {},
   "outputs": [],
   "source": []
  },
  {
   "cell_type": "code",
   "execution_count": null,
   "id": "d80dc2b2",
   "metadata": {},
   "outputs": [],
   "source": []
  },
  {
   "cell_type": "code",
   "execution_count": null,
   "id": "98e6853f",
   "metadata": {},
   "outputs": [],
   "source": []
  },
  {
   "cell_type": "code",
   "execution_count": null,
   "id": "f1e6efb8",
   "metadata": {},
   "outputs": [],
   "source": []
  }
 ],
 "metadata": {
  "kernelspec": {
   "display_name": "Python 3",
   "language": "python",
   "name": "python3"
  },
  "language_info": {
   "codemirror_mode": {
    "name": "ipython",
    "version": 3
   },
   "file_extension": ".py",
   "mimetype": "text/x-python",
   "name": "python",
   "nbconvert_exporter": "python",
   "pygments_lexer": "ipython3",
   "version": "3.10.11"
  }
 },
 "nbformat": 4,
 "nbformat_minor": 5
}
